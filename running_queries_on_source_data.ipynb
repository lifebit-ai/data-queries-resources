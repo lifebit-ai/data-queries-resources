{
 "cells": [
  {
   "cell_type": "markdown",
   "id": "a8b84ed2",
   "metadata": {},
   "source": [
    "# Running queries on the source data"
   ]
  },
  {
   "cell_type": "markdown",
   "id": "6bc75137",
   "metadata": {},
   "source": [
    "## Install required packages\n",
    "\n",
    "Before executing the cells below, in a terminal session install the following required R packages:\n",
    "\n",
    "`conda create -n omop-source r-glue r-tidyverse r-data.table r-dbi  r-rpostgres r-irkernel -y`"
   ]
  },
  {
   "cell_type": "markdown",
   "id": "a29a2837",
   "metadata": {},
   "source": [
    "### Connect to the SQL database"
   ]
  },
  {
   "cell_type": "code",
   "execution_count": null,
   "id": "85c95644",
   "metadata": {},
   "outputs": [],
   "source": [
    "library(tidyverse)\n",
    "library(data.table)\n",
    "library(DBI)\n",
    "library(RPostgres)\n",
    "\n",
    "DBNAME <- #<Add here relevant password>\n",
    "HOST <- #<Add here relevant password>\n",
    "PORT <- #<Add here relevant port>\n",
    "PASSWORD <-  #<Add here relevant password>\n",
    "USER <- 'jupyter_notebook'\n",
    "\n",
    "connectionection<- DBI::dbConnect(\n",
    "    RPostgres::Postgres(),\n",
    "    dbname = DBNAME,\n",
    "    host = HOST,\n",
    "    port = PORT,\n",
    "    password = PASSWORD,\n",
    "    user = USER,\n",
    "    options= \"-c search_path=source_data_100kv13_covidv4\" ### this sets the default schema. Other schemas (for example omop_data) can be queried by specifying the schema in the query\n",
    "    )"
   ]
  },
  {
   "cell_type": "code",
   "execution_count": null,
   "id": "d8618d74",
   "metadata": {},
   "outputs": [],
   "source": [
    "all_schemas <- DBI::dbGetQuery(connection, \"SELECT SCHEMA_NAME FROM INFORMATION_SCHEMA.SCHEMATA\")\n",
    "all_schemas"
   ]
  },
  {
   "cell_type": "markdown",
   "id": "7e8f04ca",
   "metadata": {},
   "source": [
    "### List all tables in the source_data_100kv13_covidv4 schema"
   ]
  },
  {
   "cell_type": "code",
   "execution_count": null,
   "id": "4544d12f",
   "metadata": {},
   "outputs": [],
   "source": [
    "sql <- \"\n",
    "SELECT table_schema, table_name \n",
    "FROM information_schema.tables \n",
    "WHERE table_schema = 'source_data_100kv13_covidv4'\n",
    "\"\n",
    "\n",
    "dbGetQuery(connectionection, sql)"
   ]
  },
  {
   "cell_type": "markdown",
   "id": "63f0e9a0",
   "metadata": {},
   "source": [
    "### Query 1: Normalised Rare Disease Terms Cohort "
   ]
  },
  {
   "cell_type": "code",
   "execution_count": null,
   "id": "da42d301",
   "metadata": {},
   "outputs": [],
   "source": [
    "sql <- \"\n",
    "SELECT DISTINCT participant_id, normalised_specific_disease\n",
    "FROM rare_diseases_participant_disease\n",
    "WHERE normalised_specific_disease IN (\n",
    "    'Familial pulmonary fibrosis','Familial primary spontaneous pneumothorax',\n",
    "    'Familial and multiple pulmonary arteriovenous malformations','Hereditary haemorrhagic telangiectasia'\n",
    ")\n",
    "\"\n",
    "\n",
    "sql_to_run <- sql\n",
    "\n",
    "dbGetQuery(connectionection, sql_to_run)"
   ]
  },
  {
   "cell_type": "markdown",
   "id": "2a032796",
   "metadata": {},
   "source": [
    "### Query 2: Normalised Rare Disease Terms and Participant Phenotypic Sex Cohort "
   ]
  },
  {
   "cell_type": "code",
   "execution_count": null,
   "id": "f5e2b9ef",
   "metadata": {},
   "outputs": [],
   "source": [
    "sql <- \"\n",
    "SELECT DISTINCT rd.participant_id, rd.normalised_specific_disease, par.participant_phenotypic_sex\n",
    "FROM rare_diseases_participant_disease as rd\n",
    "LEFT JOIN participant AS par\n",
    "    ON rd.participant_id = par.participant_id\n",
    "WHERE rd.normalised_specific_disease IN (\n",
    "    'Familial pulmonary fibrosis','Familial primary spontaneous pneumothorax',\n",
    "    'Familial and multiple pulmonary arteriovenous malformations','Hereditary haemorrhagic telangiectasia')\n",
    "AND par.participant_phenotypic_sex IN ('Female')\n",
    "\"\n",
    "\n",
    "sql_to_run <- sql\n",
    "\n",
    "dbGetQuery(connectionection, sql_to_run)"
   ]
  },
  {
   "cell_type": "markdown",
   "id": "f5f42367",
   "metadata": {},
   "source": [
    "### Query 3: Normalised Rare Disease Terms, Participant Phenotypic Sex Cohort, Age of Onset, and Predicted Ancestry"
   ]
  },
  {
   "cell_type": "code",
   "execution_count": null,
   "id": "9ce73f26",
   "metadata": {},
   "outputs": [],
   "source": [
    "sql <- \"\n",
    "SELECT DISTINCT rd.participant_id, rd.normalised_specific_disease, par.participant_phenotypic_sex, rd.normalised_age_of_onset,\n",
    "                agg.pred_european_ancestries\n",
    "FROM rare_diseases_participant_disease as rd\n",
    "LEFT JOIN participant AS par\n",
    "    ON rd.participant_id = par.participant_id\n",
    "LEFT JOIN aggregate_gvcf_sample_stats AS agg\n",
    "    ON rd.participant_id = agg.participant_id\n",
    "WHERE rd.normalised_specific_disease IN (\n",
    "    'Familial pulmonary fibrosis','Familial primary spontaneous pneumothorax',\n",
    "    'Familial and multiple pulmonary arteriovenous malformations','Hereditary haemorrhagic telangiectasia'\n",
    ")\n",
    "AND par.participant_phenotypic_sex IN ('Female')\n",
    "AND rd.normalised_age_of_onset >= 50\n",
    "AND agg.pred_european_ancestries >= 0.95\n",
    "\"\n",
    "\n",
    "sql_to_run <- sql\n",
    "\n",
    "dbGetQuery(connectionection, sql_to_run)"
   ]
  },
  {
   "cell_type": "markdown",
   "id": "1aaad42c",
   "metadata": {},
   "source": [
    "### Query 4: HPO terms cohort"
   ]
  },
  {
   "cell_type": "code",
   "execution_count": null,
   "id": "536ea400",
   "metadata": {},
   "outputs": [],
   "source": [
    "sql <- \"\n",
    "SELECT DISTINCT participant_id\n",
    "FROM rare_diseases_participant_phenotype\n",
    "WHERE normalised_hpo_id IN ('HP:0002206','HP:0006530','HP:0002094')\n",
    "AND hpo_present IN ('Yes')\n",
    "\"\n",
    "\n",
    "sql_to_run <- sql\n",
    "\n",
    "dbGetQuery(connectionection, sql_to_run) "
   ]
  },
  {
   "cell_type": "markdown",
   "id": "1cade66e",
   "metadata": {},
   "source": [
    "### Query 5: ICD10 terms cohort"
   ]
  },
  {
   "cell_type": "code",
   "execution_count": null,
   "id": "b494216f",
   "metadata": {},
   "outputs": [],
   "source": [
    "sql <- \"\n",
    "SELECT DISTINCT participant_id\n",
    "FROM hes_apc\n",
    "WHERE diag01 LIKE 'J841'\n",
    "OR diag02 LIKE 'J841'\n",
    "OR diag03 LIKE 'J841'\n",
    "\"\n",
    "\n",
    "sql_to_run <- sql\n",
    "\n",
    "dbGetQuery(connectionection, sql_to_run)"
   ]
  },
  {
   "cell_type": "markdown",
   "id": "7b9e4baa",
   "metadata": {},
   "source": [
    "### Query 6: ICD10 terms cohort - Part 2"
   ]
  },
  {
   "cell_type": "code",
   "execution_count": null,
   "id": "b981885e",
   "metadata": {},
   "outputs": [],
   "source": [
    "sql <- \"\n",
    "SELECT DISTINCT apc.participant_id\n",
    "FROM hes_apc AS apc\n",
    "LEFT JOIN hes_op AS op\n",
    "    ON apc.participant_id = op.participant_id\n",
    "WHERE apc.diag01 IN ('J841')\n",
    "OR apc.diag02 IN ('J841')\n",
    "OR apc.diag03 IN ('J841')\n",
    "OR op.diag01 IN ('J841')\n",
    "OR op.diag02 IN ('J841')\n",
    "OR op.diag03 IN ('J841')\n",
    "\"\n",
    "\n",
    "sql_to_run <- sql\n",
    "\n",
    "dbGetQuery(connectionection, sql_to_run)"
   ]
  },
  {
   "cell_type": "markdown",
   "id": "4abad783",
   "metadata": {},
   "source": [
    "### Query 7: Cancer type and status"
   ]
  },
  {
   "cell_type": "code",
   "execution_count": null,
   "id": "39fba84f",
   "metadata": {},
   "outputs": [],
   "source": [
    "sql <- \"\n",
    "SELECT DISTINCT ca.participant_id\n",
    "FROM cancer_analysis AS ca\n",
    "LEFT JOIN av_tumour AS av\n",
    "    ON ca.participant_id = av.participant_id\n",
    "WHERE ca.disease_type IN ('BREAST')\n",
    "AND av.er_status = 'P'\"\n",
    "\n",
    "sql_to_run <- sql\n",
    "\n",
    "dbGetQuery(connectionection, sql_to_run)"
   ]
  },
  {
   "cell_type": "markdown",
   "id": "42ccfb52",
   "metadata": {},
   "source": [
    "### Query 8: Cancer type and status - Part 1"
   ]
  },
  {
   "cell_type": "code",
   "execution_count": null,
   "id": "ae0d6327",
   "metadata": {},
   "outputs": [],
   "source": [
    "sql <- \"\n",
    "SELECT DISTINCT participant_id\n",
    "FROM sact\n",
    "WHERE analysis_group IN ('NIVOLUMAB','PEMBROLIZUMAB')\n",
    "\"\n",
    "\n",
    "sql_to_run <- sql\n",
    "\n",
    "dbGetQuery(connectionection, sql_to_run)"
   ]
  },
  {
   "cell_type": "markdown",
   "id": "0777a2f5",
   "metadata": {},
   "source": [
    "### Query 9: Cancer type and status - Part 2"
   ]
  },
  {
   "cell_type": "code",
   "execution_count": null,
   "id": "ae78688d",
   "metadata": {},
   "outputs": [],
   "source": [
    "sql <- \"\n",
    "SELECT DISTINCT sa.participant_id\n",
    "FROM sact AS sa\n",
    "LEFT JOIN cancer_analysis AS ca\n",
    "    ON sa.participant_id = ca.participant_id\n",
    "WHERE sa.analysis_group IN ('NIVOLUMAB','PEMBROLIZUMAB')\n",
    "AND ca.disease_type = 'BLADDER'\n",
    "\"\n",
    "\n",
    "sql_to_run <- sql\n",
    "\n",
    "dbGetQuery(connectionection, sql_to_run)"
   ]
  }
 ],
 "metadata": {
  "kernelspec": {
   "display_name": "omop-source",
   "language": "R",
   "name": "conda-env-omop-source-r"
  }
 },
 "nbformat": 4,
 "nbformat_minor": 5
}
