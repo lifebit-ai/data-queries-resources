{
 "cells": [
  {
   "cell_type": "markdown",
   "id": "71e8855d",
   "metadata": {},
   "source": [
    "# Running queries on the source data"
   ]
  },
  {
   "cell_type": "markdown",
   "id": "6fc92ccb",
   "metadata": {},
   "source": [
    "## Install required packages\n",
    "\n",
    "Before executing the cells below, in a terminal session install the following required R packages:\n",
    "\n",
    "`conda create -n omop-source r-tidyverse r-data.table r-dbi  r-rpostgres r-irkernel -y`"
   ]
  },
  {
   "cell_type": "markdown",
   "id": "15dda90b",
   "metadata": {},
   "source": [
    "### Connect to the SQL database"
   ]
  },
  {
   "cell_type": "code",
   "execution_count": null,
   "id": "5361c0f9",
   "metadata": {},
   "outputs": [],
   "source": [
    "library(tidyverse)\n",
    "library(data.table)\n",
    "library(DBI)\n",
    "library(RPostgres)\n",
    "\n",
    "DBNAME <- #<Add here relevant password>\n",
    "HOST <- #<Add here relevant password>\n",
    "PORT <- #<Add here relevant port>\n",
    "PASSWORD <-  #<Add here relevant password>\n",
    "USER <- 'jupyter_notebook'\n",
    "\n",
    "connection <- DBI::dbConnect(\n",
    "    RPostgres::Postgres(),\n",
    "    dbname = $DBNAME,\n",
    "    host = $HOST,\n",
    "    port = $PORT,\n",
    "    password = $PASSWORD,\n",
    "    user = $USER,\n",
    "    )"
   ]
  },
  {
   "cell_type": "markdown",
   "id": "d285f005",
   "metadata": {},
   "source": [
    "### List all tables in the source_data_100kv13_covidv4 schema"
   ]
  },
  {
   "cell_type": "code",
   "execution_count": null,
   "id": "a575be95",
   "metadata": {},
   "outputs": [],
   "source": [
    "sql <- \"\n",
    "SELECT table_schema, table_name \n",
    "FROM information_schema.tables \n",
    "WHERE table_schema = 'source_data_100kv13_covidv4'\n",
    "\"\n",
    "\n",
    "dbGetQuery(connection, sql)"
   ]
  },
  {
   "cell_type": "markdown",
   "id": "cbefebd3",
   "metadata": {},
   "source": [
    "### Query 1: Normalised Rare Disease Terms Cohort "
   ]
  },
  {
   "cell_type": "code",
   "execution_count": null,
   "id": "8aea0ec0",
   "metadata": {},
   "outputs": [],
   "source": [
    "sql <- \"\n",
    "SELECT DISTINCT participant_id, normalised_specific_disease\n",
    "FROM rare_diseases_participant_disease\n",
    "WHERE normalised_specific_disease IN (\n",
    "    'Familial pulmonary fibrosis','Familial primary spontaneous pneumothorax',\n",
    "    'Familial and multiple pulmonary arteriovenous malformations','Hereditary haemorrhagic telangiectasia'\n",
    ")\n",
    "\"\n",
    "\n",
    "sql_to_run <- str_replace_all(sql, \"rare_diseases_participant_disease\", \"gel_rare_participant_disease_100k\")\n",
    "\n",
    "dbGetQuery(connection, sql_to_run)"
   ]
  },
  {
   "cell_type": "markdown",
   "id": "d5646749",
   "metadata": {},
   "source": [
    "### Query 2: Normalised Rare Disease Terms and Participant Phenotypic Sex Cohort "
   ]
  },
  {
   "cell_type": "code",
   "execution_count": null,
   "id": "dbabc6c6",
   "metadata": {},
   "outputs": [],
   "source": [
    "sql <- \"\n",
    "SELECT DISTINCT rd.participant_id, rd.normalised_specific_disease, par.participant_phenotypic_sex\n",
    "FROM rare_diseases_participant_disease as rd\n",
    "LEFT JOIN participant AS par\n",
    "    ON rd.participant_id = par.participant_id\n",
    "WHERE rd.normalised_specific_disease IN (\n",
    "    'Familial pulmonary fibrosis','Familial primary spontaneous pneumothorax',\n",
    "    'Familial and multiple pulmonary arteriovenous malformations','Hereditary haemorrhagic telangiectasia')\n",
    "AND par.participant_phenotypic_sex IN ('Female')\n",
    "\"\n",
    "\n",
    "sql_to_run <- str_replace_all(sql, \"(?<=(FROM )|(JOIN ))rare_diseases_participant_disease\", \"gel_rare_participant_disease_100k\") %>%\n",
    "    str_replace_all(\"(?<=(FROM )|(JOIN ))participant \", \"gel_participant_100k \") \n",
    "\n",
    "dbGetQuery(connection, sql_to_run)"
   ]
  },
  {
   "cell_type": "markdown",
   "id": "789c514d",
   "metadata": {},
   "source": [
    "### Query 3: Normalised Rare Disease Terms, Participant Phenotypic Sex Cohort, Age of Onset, and Predicted Ancestry"
   ]
  },
  {
   "cell_type": "code",
   "execution_count": null,
   "id": "62c4138f",
   "metadata": {},
   "outputs": [],
   "source": [
    "sql <- \"\n",
    "SELECT DISTINCT rd.participant_id, rd.normalised_specific_disease, par.participant_phenotypic_sex, rd.normalised_age_of_onset,\n",
    "                agg.pred_european_ancestries\n",
    "FROM rare_diseases_participant_disease as rd\n",
    "LEFT JOIN participant AS par\n",
    "    ON rd.participant_id = par.participant_id\n",
    "LEFT JOIN aggregate_gvcf_sample_stats AS agg\n",
    "    ON rd.participant_id = agg.participant_id\n",
    "WHERE rd.normalised_specific_disease IN (\n",
    "    'Familial pulmonary fibrosis','Familial primary spontaneous pneumothorax',\n",
    "    'Familial and multiple pulmonary arteriovenous malformations','Hereditary haemorrhagic telangiectasia'\n",
    ")\n",
    "AND par.participant_phenotypic_sex IN ('Female')\n",
    "AND rd.normalised_age_of_onset >= 50\n",
    "AND agg.pred_european_ancestries >= 0.95\n",
    "\"\n",
    "\n",
    "sql_to_run <- str_replace_all(sql, \"(?<=(FROM )|(JOIN ))rare_diseases_participant_disease\", \"gel_rare_participant_disease_100k\") %>%\n",
    "    str_replace_all(\"(?<=(FROM )|(JOIN ))participant \", \"gel_participant_100k \") %>%\n",
    "    str_replace_all(\"(?<=(FROM )|(JOIN ))aggregate_gvcf_sample_stats \", \"gel_rare_disease_and_germline_genomic_variant_call_format_sampl \")\n",
    "\n",
    "dbGetQuery(connection, sql_to_run)"
   ]
  },
  {
   "cell_type": "markdown",
   "id": "1816688c",
   "metadata": {},
   "source": [
    "### Query 4: HPO terms cohort"
   ]
  },
  {
   "cell_type": "code",
   "execution_count": null,
   "id": "a9c485f7",
   "metadata": {},
   "outputs": [],
   "source": [
    "sql <- \"\n",
    "SELECT DISTINCT participant_id\n",
    "FROM rare_diseases_participant_phenotype\n",
    "WHERE normalised_hpo_id IN ('HP:0002206','HP:0006530','HP:0002094')\n",
    "AND hpo_present IN ('Yes')\n",
    "\"\n",
    "\n",
    "sql_to_run <- str_replace_all(sql, \"(?<=(FROM )|(JOIN ))rare_diseases_participant_phenotype\", \"gel_rare_participant_phenotype_100k\")\n",
    "\n",
    "dbGetQuery(connection, sql_to_run) "
   ]
  },
  {
   "cell_type": "markdown",
   "id": "ab0dbdaa",
   "metadata": {},
   "source": [
    "### Query 5: ICD10 terms cohort"
   ]
  },
  {
   "cell_type": "code",
   "execution_count": null,
   "id": "2342e830",
   "metadata": {},
   "outputs": [],
   "source": [
    "sql <- \"\n",
    "SELECT DISTINCT participant_id\n",
    "FROM hes_apc\n",
    "WHERE diag_01 LIKE 'J841'\n",
    "OR diag_02 LIKE 'J841'\n",
    "OR diag_03 LIKE 'J841'\n",
    "\"\n",
    "\n",
    "sql_to_run <- str_replace_all(sql, \"(?<=(FROM )|(JOIN ))hes_apc\", \"nhs_d_hospital_episodes_statistics_admitted_patient_care_100k\")\n",
    "\n",
    "dbGetQuery(connection, sql_to_run)"
   ]
  },
  {
   "cell_type": "markdown",
   "id": "4787f993",
   "metadata": {},
   "source": [
    "### Query 6: ICD10 terms cohort - Part 2"
   ]
  },
  {
   "cell_type": "code",
   "execution_count": null,
   "id": "a70c0786",
   "metadata": {},
   "outputs": [],
   "source": [
    "sql <- \"\n",
    "SELECT DISTINCT apc.participant_id\n",
    "FROM hes_apc AS apc\n",
    "LEFT JOIN hes_op AS op\n",
    "    ON apc.participant_id = op.participant_id\n",
    "WHERE apc.diag_01 IN ('J841')\n",
    "OR apc.diag_02 IN ('J841')\n",
    "OR apc.diag_03 IN ('J841')\n",
    "OR op.diag_01 IN ('J841')\n",
    "OR op.diag_02 IN ('J841')\n",
    "OR op.diag_03 IN ('J841')\n",
    "\"\n",
    "\n",
    "sql_to_run <- str_replace_all(sql, \"(?<=(FROM )|(JOIN ))hes_apc\", \"nhs_d_hospital_episodes_statistics_admitted_patient_care_100k\") %>%\n",
    "    str_replace_all(\"(?<=(FROM )|(JOIN ))hes_op \", \"nhs_d_hospital_episodes_statistics_outpatient_100k \") \n",
    "\n",
    "dbGetQuery(connection, sql_to_run)"
   ]
  },
  {
   "cell_type": "markdown",
   "id": "4dc7ee1d",
   "metadata": {},
   "source": [
    "### Query 7: Cancer type and status"
   ]
  },
  {
   "cell_type": "code",
   "execution_count": null,
   "id": "1f264fd6",
   "metadata": {},
   "outputs": [],
   "source": [
    "sql <- \"\n",
    "SELECT DISTINCT ca.participant_id\n",
    "FROM cancer_analysis AS ca\n",
    "LEFT JOIN av_tumour AS av\n",
    "    ON ca.participant_id = av.participant_id\n",
    "WHERE ca.disease_type IN ('BREAST')\n",
    "AND av.er_status = 'P'\"\n",
    "\n",
    "sql_to_run <- str_replace_all(sql, \"(?<=(FROM )|(JOIN ))cancer_analysis\", \"gel_cancer_analysis_100k\") %>%\n",
    "    str_replace_all(\"(?<=(FROM )|(JOIN ))av_tumour \", \"ncras_cancer_tumour_100k \") \n",
    "\n",
    "dbGetQuery(connection, sql_to_run)"
   ]
  },
  {
   "cell_type": "markdown",
   "id": "8fc012ae",
   "metadata": {},
   "source": [
    "### Query 8: Cancer type and status - Part 1"
   ]
  },
  {
   "cell_type": "code",
   "execution_count": null,
   "id": "747fd4e7",
   "metadata": {},
   "outputs": [],
   "source": [
    "sql <- \"\n",
    "SELECT DISTINCT participant_id\n",
    "FROM sact\n",
    "WHERE analysis_group IN ('NIVOLUMAB','PEMBROLIZUMAB')\n",
    "\"\n",
    "\n",
    "sql_to_run <- str_replace_all(sql, \"(?<=(FROM )|(JOIN ))sact\", \"ncras_systemic_anti_cancer_therapy_curated_100k\") \n",
    "\n",
    "dbGetQuery(connection, sql_to_run)"
   ]
  },
  {
   "cell_type": "markdown",
   "id": "ca4bc42c",
   "metadata": {},
   "source": [
    "### Query 9: Cancer type and status - Part 2"
   ]
  },
  {
   "cell_type": "code",
   "execution_count": null,
   "id": "30e7b19f",
   "metadata": {
    "lines_to_next_cell": 0
   },
   "outputs": [],
   "source": [
    "sql <- \"\n",
    "SELECT DISTINCT sa.participant_id\n",
    "FROM sact AS sa\n",
    "LEFT JOIN cancer_analysis AS ca\n",
    "    ON sa.participant_id = ca.participant_id\n",
    "WHERE sa.analysis_group IN ('NIVOLUMAB','PEMBROLIZUMAB')\n",
    "AND ca.disease_type = 'BLADDER'\n",
    "\"\n",
    "\n",
    "sql_to_run <- str_replace_all(sql, \"(?<=(FROM )|(JOIN ))sact\", \"ncras_systemic_anti_cancer_therapy_curated_100k\") %>%\n",
    "    str_replace_all(\"(?<=(FROM )|(JOIN ))cancer_analysis\", \"gel_cancer_analysis_100k\")\n",
    "\n",
    "dbGetQuery(connection, sql_to_run)"
   ]
  },
  {
   "cell_type": "code",
   "execution_count": null,
   "id": "66ee2527",
   "metadata": {
    "lines_to_next_cell": 2
   },
   "outputs": [],
   "source": []
  }
 ],
 "metadata": {
  "kernelspec": {
   "display_name": "omop-source",
   "language": "R",
   "name": "conda-env-omop-source-r"
  }
 },
 "nbformat": 4,
 "nbformat_minor": 5
}
