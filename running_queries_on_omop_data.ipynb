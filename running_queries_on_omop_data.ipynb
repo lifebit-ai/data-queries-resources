{
 "cells": [
  {
   "cell_type": "markdown",
   "id": "c2ab4067",
   "metadata": {},
   "source": [
    "# Running queries on the OMOP data\n",
    "\n",
    "## Install required packages\n",
    "\n",
    "Before executing the cells below, in a terminal session install the following required R packages:\n",
    "\n",
    "`conda create -n omop-source r-glue r-tidyverse r-data.table r-dbi  r-rpostgres r-irkernel -y`\n",
    "\n",
    "### Connect to the SQL database"
   ]
  },
  {
   "cell_type": "code",
   "execution_count": null,
   "id": "9af93f23",
   "metadata": {
    "lines_to_next_cell": 2
   },
   "outputs": [],
   "source": [
    "library(tidyverse)\n",
    "library(data.table)\n",
    "library(glue)\n",
    "library(DBI)\n",
    "library(RPostgres)\n",
    "\n",
    "DBNAME <- #<Add here relevant password>\n",
    "HOST <- #<Add here relevant password>\n",
    "PORT <- #<Add here relevant port>\n",
    "PASSWORD <-  #<Add here relevant password>\n",
    "USER <- 'jupyter_notebook'\n",
    "\n",
    "connection <- DBI::dbConnect(\n",
    "    RPostgres::Postgres(),\n",
    "    dbname = DBNAME,\n",
    "    host = HOST,\n",
    "    port = PORT,\n",
    "    password = PASSWORD,\n",
    "    user = USER,\n",
    "    )"
   ]
  },
  {
   "cell_type": "markdown",
   "id": "777d9e78",
   "metadata": {},
   "source": [
    "# Query 1 - Database count\n",
    "This is a query that provides the total number of participants"
   ]
  },
  {
   "cell_type": "code",
   "execution_count": null,
   "id": "b1444320",
   "metadata": {},
   "outputs": [],
   "source": [
    "omop_query <- \"\n",
    "    select count(distinct o.person_id) as count\n",
    "    from omop_data_100kv13_covidv4.person o\n",
    "    limit 10\n",
    "\"\n",
    "\n",
    "all_dataset_demo <- dbGetQuery(connection, glue(omop_query, schema = \"omop_data_100kv13_covidv4\"))\n",
    "\n",
    "all_dataset_demo"
   ]
  },
  {
   "cell_type": "markdown",
   "id": "e98e9664",
   "metadata": {},
   "source": [
    "# Query 2 - Total count stratified by gender"
   ]
  },
  {
   "cell_type": "code",
   "execution_count": null,
   "id": "df100fb6",
   "metadata": {},
   "outputs": [],
   "source": [
    "omop_query <- \"\n",
    "    select count(distinct p.person_id) as count, c.concept_name, c.concept_id\n",
    "    from omop_data_100kv13_covidv4.person p\n",
    "    left join omop_data_100kv13_covidv4.concept c on c.concept_id = p.gender_concept_id\n",
    "    group by c.concept_name, c.concept_id\n",
    "    order by count desc\n",
    "    limit 10\n",
    "\"\n",
    "\n",
    "all_dataset_demo <- dbGetQuery(connection, glue(omop_query, schema = \"omop_data_100kv13_covidv4\"))\n",
    "\n",
    "all_dataset_demo"
   ]
  },
  {
   "cell_type": "markdown",
   "id": "465a83df",
   "metadata": {},
   "source": [
    "# Query 3 - Number of participants in the database with Acure Renal Failure Syndrome"
   ]
  },
  {
   "cell_type": "code",
   "execution_count": null,
   "id": "68e20a33",
   "metadata": {},
   "outputs": [],
   "source": [
    "omop_query <- \"\n",
    "    select count(distinct o.person_id) as count, o.condition_concept_id\n",
    "    from omop_data_100kv13_covidv4.condition_occurrence o\n",
    "    where o.condition_concept_id = '197320'\n",
    "    group by o.condition_concept_id\n",
    "    order by count desc\n",
    "\"\n",
    "\n",
    "all_dataset_demo <- dbGetQuery(connection, glue(omop_query, schema = \"omop_data_100kv13_covidv4\"))\n",
    "\n",
    "all_dataset_demo"
   ]
  },
  {
   "cell_type": "markdown",
   "id": "6851822a",
   "metadata": {},
   "source": [
    "# Query 4 - Comorbidities\n",
    "This is a simple query that provides the comorbidities with participants diagnosed with \"Acute renal failure syndrome\" OMOP concept_id = 197320. (30 days window before the first diagnosis with 197320)"
   ]
  },
  {
   "cell_type": "code",
   "execution_count": null,
   "id": "a58c097c",
   "metadata": {},
   "outputs": [],
   "source": [
    "source_query <- \"\n",
    "With CTE_index as (\n",
    "select min(co.condition_start_date) as index_date,co.person_id\n",
    "from omop_data_100kv13_covidv4.condition_occurrence co\n",
    "left join omop_data_100kv13_covidv4.concept c on co.condition_concept_id = c.concept_id\n",
    "where c.concept_id = 197320\n",
    "group by co.person_id\n",
    "),\n",
    "CTE_comorbidities as (\n",
    "select count(distinct co.person_id) as comorbities_num, c.concept_name, c.concept_id, co.condition_source_value\n",
    "from CTE_index as fe\n",
    "left join omop_data_100kv13_covidv4.condition_occurrence co on co.person_id = fe.person_id and co.condition_start_date between fe.index_date - 30 and fe.index_date -1\n",
    "left join omop_data_100kv13_covidv4.concept c on c.concept_id = co.condition_concept_id\n",
    "where c.concept_id != '0'\n",
    "group by c.concept_name, c.concept_id, co.condition_source_value\n",
    "order by comorbities_num desc\n",
    ")\n",
    "select * from CTE_comorbidities\n",
    "limit 10\n",
    "\"\n",
    "\n",
    "query <- dbGetQuery(connection, glue(source_query, schema = \"source_data_100kv13_covidv4\"))\n",
    "\n",
    "query\n"
   ]
  },
  {
   "cell_type": "markdown",
   "id": "f3c25f72",
   "metadata": {},
   "source": [
    "# Query 5 - Adverse Events\n",
    "This is a query that provides the adverse events of participants initiating 'Carboplatin' with OMOP concept_id = 1344905 (30 days window after the first exposure to 1344905)"
   ]
  },
  {
   "cell_type": "code",
   "execution_count": null,
   "id": "abdddaee",
   "metadata": {
    "lines_to_next_cell": 0
   },
   "outputs": [],
   "source": [
    "source_query <- \"\n",
    "With CTE_index as (\n",
    "select min(co.drug_exposure_start_date) as index_date,co.person_id\n",
    "from omop_data_100kv13_covidv4.drug_exposure co\n",
    "left join omop_data_100kv13_covidv4.concept c on co.drug_concept_id = c.concept_id\n",
    "where c.concept_id = 1344905\n",
    "group by co.person_id\n",
    "),\n",
    "CTE_adverse_events as (\n",
    "select count(distinct co.person_id) as comorbities_num, c.concept_name, c.concept_id, co.condition_source_value\n",
    "from CTE_index as fe\n",
    "left join omop_data_100kv13_covidv4.condition_occurrence co on co.person_id = fe.person_id and co.condition_start_date between fe.index_date +1 and fe.index_date + 30\n",
    "left join omop_data_100kv13_covidv4.concept c on c.concept_id = co.condition_concept_id\n",
    "where c.concept_id != '0'\n",
    "group by c.concept_name, c.concept_id, co.condition_source_value\n",
    "order by comorbities_num desc\n",
    ")\n",
    "select * from CTE_adverse_events\n",
    "limit 10\n",
    "\"\n",
    "\n",
    "query <- dbGetQuery(connection, glue(source_query, schema = \"source_data_100kv13_covidv4\"))\n",
    "\n",
    "query\n"
   ]
  },
  {
   "cell_type": "code",
   "execution_count": null,
   "id": "73f5e534",
   "metadata": {
    "lines_to_next_cell": 2
   },
   "outputs": [],
   "source": []
  }
 ],
 "metadata": {
  "kernelspec": {
   "display_name": "R",
   "language": "R",
   "name": "ir"
  }
 },
 "nbformat": 4,
 "nbformat_minor": 5
}
